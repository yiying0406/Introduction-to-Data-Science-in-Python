{
 "cells": [
  {
   "cell_type": "markdown",
   "metadata": {},
   "source": [
    "---\n",
    "\n",
    "_You are currently looking at **version 1.5** of this notebook. To download notebooks and datafiles, as well as get help on Jupyter notebooks in the Coursera platform, visit the [Jupyter Notebook FAQ](https://www.coursera.org/learn/python-data-analysis/resources/0dhYG) course resource._\n",
    "\n",
    "---"
   ]
  },
  {
   "cell_type": "markdown",
   "metadata": {},
   "source": [
    "# Assignment 3 - More Pandas\n",
    "This assignment requires more individual learning then the last one did - you are encouraged to check out the [pandas documentation](http://pandas.pydata.org/pandas-docs/stable/) to find functions or methods you might not have used yet, or ask questions on [Stack Overflow](http://stackoverflow.com/) and tag them as pandas and python related. And of course, the discussion forums are open for interaction with your peers and the course staff."
   ]
  },
  {
   "cell_type": "markdown",
   "metadata": {},
   "source": [
    "### Question 1 (20%)\n",
    "Load the energy data from the file `Energy Indicators.xls`, which is a list of indicators of [energy supply and renewable electricity production](Energy%20Indicators.xls) from the [United Nations](http://unstats.un.org/unsd/environment/excel_file_tables/2013/Energy%20Indicators.xls) for the year 2013, and should be put into a DataFrame with the variable name of **energy**.\n",
    "\n",
    "Keep in mind that this is an Excel file, and not a comma separated values file. Also, make sure to exclude the footer and header information from the datafile. The first two columns are unneccessary, so you should get rid of them, and you should change the column labels so that the columns are:\n",
    "\n",
    "`['Country', 'Energy Supply', 'Energy Supply per Capita', '% Renewable']`\n",
    "\n",
    "Convert `Energy Supply` to gigajoules (there are 1,000,000 gigajoules in a petajoule). For all countries which have missing data (e.g. data with \"...\") make sure this is reflected as `np.NaN` values.\n",
    "\n",
    "Rename the following list of countries (for use in later questions):\n",
    "\n",
    "```\"Republic of Korea\": \"South Korea\",\n",
    "\"United States of America\": \"United States\",\n",
    "\"United Kingdom of Great Britain and Northern Ireland\": \"United Kingdom\",\n",
    "\"China, Hong Kong Special Administrative Region\": \"Hong Kong\"```\n",
    "\n",
    "There are also several countries with numbers and/or parenthesis in their name. Be sure to remove these, \n",
    "\n",
    "e.g. \n",
    "\n",
    "`'Bolivia (Plurinational State of)'` should be `'Bolivia'`, \n",
    "\n",
    "`'Switzerland17'` should be `'Switzerland'`.\n",
    "\n",
    "<br>\n",
    "\n",
    "Next, load the GDP data from the file `world_bank.csv`, which is a csv containing countries' GDP from 1960 to 2015 from [World Bank](http://data.worldbank.org/indicator/NY.GDP.MKTP.CD). Call this DataFrame **GDP**. \n",
    "\n",
    "Make sure to skip the header, and rename the following list of countries:\n",
    "\n",
    "```\"Korea, Rep.\": \"South Korea\", \n",
    "\"Iran, Islamic Rep.\": \"Iran\",\n",
    "\"Hong Kong SAR, China\": \"Hong Kong\"```\n",
    "\n",
    "<br>\n",
    "\n",
    "Finally, load the [Sciamgo Journal and Country Rank data for Energy Engineering and Power Technology](http://www.scimagojr.com/countryrank.php?category=2102) from the file `scimagojr-3.xlsx`, which ranks countries based on their journal contributions in the aforementioned area. Call this DataFrame **ScimEn**.\n",
    "\n",
    "Join the three datasets: GDP, Energy, and ScimEn into a new dataset (using the intersection of country names). Use only the last 10 years (2006-2015) of GDP data and only the top 15 countries by Scimagojr 'Rank' (Rank 1 through 15). \n",
    "\n",
    "The index of this DataFrame should be the name of the country, and the columns should be ['Rank', 'Documents', 'Citable documents', 'Citations', 'Self-citations',\n",
    "       'Citations per document', 'H index', 'Energy Supply',\n",
    "       'Energy Supply per Capita', '% Renewable', '2006', '2007', '2008',\n",
    "       '2009', '2010', '2011', '2012', '2013', '2014', '2015'].\n",
    "\n",
    "*This function should return a DataFrame with 20 columns and 15 entries.*"
   ]
  },
  {
   "cell_type": "markdown",
   "metadata": {},
   "source": [
    "### Question 2 (6.6%)\n",
    "The previous question joined three datasets then reduced this to just the top 15 entries. When you joined the datasets, but before you reduced this to the top 15 items, how many entries did you lose?\n",
    "\n",
    "*This function should return a single number.*"
   ]
  },
  {
   "cell_type": "code",
   "execution_count": 225,
   "metadata": {
    "collapsed": false
   },
   "outputs": [
    {
     "name": "stderr",
     "output_type": "stream",
     "text": [
      "/Users/yiyingchen/anaconda/lib/python3.6/site-packages/ipykernel/__main__.py:19: FutureWarning: currently extract(expand=None) means expand=False (return Index/Series/DataFrame) but in a future version of pandas this will be changed to expand=True (return DataFrame)\n"
     ]
    },
    {
     "data": {
      "text/html": [
       "<div>\n",
       "<table border=\"1\" class=\"dataframe\">\n",
       "  <thead>\n",
       "    <tr style=\"text-align: right;\">\n",
       "      <th></th>\n",
       "      <th>Rank</th>\n",
       "      <th>Documents</th>\n",
       "      <th>Citable documents</th>\n",
       "      <th>Citations</th>\n",
       "      <th>Self-citations</th>\n",
       "      <th>Citations per document</th>\n",
       "      <th>H index</th>\n",
       "      <th>Energy Supply</th>\n",
       "      <th>Energy Supply per Capita</th>\n",
       "      <th>% Renewable</th>\n",
       "      <th>2006</th>\n",
       "      <th>2007</th>\n",
       "      <th>2008</th>\n",
       "      <th>2009</th>\n",
       "      <th>2010</th>\n",
       "      <th>2011</th>\n",
       "      <th>2012</th>\n",
       "      <th>2013</th>\n",
       "      <th>2014</th>\n",
       "      <th>2015</th>\n",
       "    </tr>\n",
       "    <tr>\n",
       "      <th>Country</th>\n",
       "      <th></th>\n",
       "      <th></th>\n",
       "      <th></th>\n",
       "      <th></th>\n",
       "      <th></th>\n",
       "      <th></th>\n",
       "      <th></th>\n",
       "      <th></th>\n",
       "      <th></th>\n",
       "      <th></th>\n",
       "      <th></th>\n",
       "      <th></th>\n",
       "      <th></th>\n",
       "      <th></th>\n",
       "      <th></th>\n",
       "      <th></th>\n",
       "      <th></th>\n",
       "      <th></th>\n",
       "      <th></th>\n",
       "      <th></th>\n",
       "    </tr>\n",
       "  </thead>\n",
       "  <tbody>\n",
       "    <tr>\n",
       "      <th>China</th>\n",
       "      <td>1.0</td>\n",
       "      <td>127,050.0</td>\n",
       "      <td>126,767.0</td>\n",
       "      <td>597,237.0</td>\n",
       "      <td>411,683.0</td>\n",
       "      <td>4.7</td>\n",
       "      <td>138.0</td>\n",
       "      <td>127191000000</td>\n",
       "      <td>93</td>\n",
       "      <td>19.75491</td>\n",
       "      <td>3,992,331,462,570.89</td>\n",
       "      <td>4,559,041,383,517.93</td>\n",
       "      <td>4,997,775,145,605.96</td>\n",
       "      <td>5,459,247,267,275.14</td>\n",
       "      <td>6,039,658,508,485.59</td>\n",
       "      <td>6,612,490,294,273.65</td>\n",
       "      <td>7,124,977,970,399.61</td>\n",
       "      <td>7,672,447,738,017.42</td>\n",
       "      <td>8,230,120,617,793.52</td>\n",
       "      <td>8,797,998,940,421.28</td>\n",
       "    </tr>\n",
       "    <tr>\n",
       "      <th>United States</th>\n",
       "      <td>2.0</td>\n",
       "      <td>96,661.0</td>\n",
       "      <td>94,747.0</td>\n",
       "      <td>792,274.0</td>\n",
       "      <td>265,436.0</td>\n",
       "      <td>8.2</td>\n",
       "      <td>230.0</td>\n",
       "      <td>90838000000</td>\n",
       "      <td>286</td>\n",
       "      <td>11.57098</td>\n",
       "      <td>14,792,303,791,800.0</td>\n",
       "      <td>15,055,395,304,800.0</td>\n",
       "      <td>15,011,490,541,400.0</td>\n",
       "      <td>14,594,842,181,900.0</td>\n",
       "      <td>14,964,372,000,000.0</td>\n",
       "      <td>15,204,019,634,600.0</td>\n",
       "      <td>15,542,161,722,300.0</td>\n",
       "      <td>15,773,666,098,800.0</td>\n",
       "      <td>16,156,618,476,000.0</td>\n",
       "      <td>16,548,573,278,300.0</td>\n",
       "    </tr>\n",
       "    <tr>\n",
       "      <th>Japan</th>\n",
       "      <td>3.0</td>\n",
       "      <td>30,504.0</td>\n",
       "      <td>30,287.0</td>\n",
       "      <td>223,024.0</td>\n",
       "      <td>61,554.0</td>\n",
       "      <td>7.31</td>\n",
       "      <td>134.0</td>\n",
       "      <td>18984000000</td>\n",
       "      <td>149</td>\n",
       "      <td>10.23282</td>\n",
       "      <td>5,496,541,517,363.31</td>\n",
       "      <td>5,617,035,943,770.73</td>\n",
       "      <td>5,558,526,873,313.82</td>\n",
       "      <td>5,251,308,399,909.32</td>\n",
       "      <td>5,498,717,815,809.77</td>\n",
       "      <td>5,473,738,114,222.05</td>\n",
       "      <td>5,569,101,602,926.18</td>\n",
       "      <td>5,644,658,523,313.42</td>\n",
       "      <td>5,642,884,448,582.19</td>\n",
       "      <td>5,669,563,143,140.97</td>\n",
       "    </tr>\n",
       "    <tr>\n",
       "      <th>United Kingdom</th>\n",
       "      <td>4.0</td>\n",
       "      <td>20,944.0</td>\n",
       "      <td>20,357.0</td>\n",
       "      <td>206,091.0</td>\n",
       "      <td>37,874.0</td>\n",
       "      <td>9.84</td>\n",
       "      <td>139.0</td>\n",
       "      <td>7920000000</td>\n",
       "      <td>124</td>\n",
       "      <td>10.60047</td>\n",
       "      <td>2,419,630,700,401.73</td>\n",
       "      <td>2,482,203,235,475.9</td>\n",
       "      <td>2,470,614,405,284.3</td>\n",
       "      <td>2,367,047,611,711.99</td>\n",
       "      <td>2,403,504,326,328.8</td>\n",
       "      <td>2,450,911,011,124.85</td>\n",
       "      <td>2,479,808,627,472.19</td>\n",
       "      <td>2,533,370,110,012.36</td>\n",
       "      <td>2,605,643,189,894.93</td>\n",
       "      <td>2,666,333,396,477.13</td>\n",
       "    </tr>\n",
       "    <tr>\n",
       "      <th>Russian Federation</th>\n",
       "      <td>5.0</td>\n",
       "      <td>18,534.0</td>\n",
       "      <td>18,301.0</td>\n",
       "      <td>34,266.0</td>\n",
       "      <td>12,422.0</td>\n",
       "      <td>1.85</td>\n",
       "      <td>57.0</td>\n",
       "      <td>30709000000</td>\n",
       "      <td>214</td>\n",
       "      <td>17.28868</td>\n",
       "      <td>1,385,792,607,182.58</td>\n",
       "      <td>1,504,071,117,741.3</td>\n",
       "      <td>1,583,004,071,092.11</td>\n",
       "      <td>1,459,199,142,720.26</td>\n",
       "      <td>1,524,917,468,442.01</td>\n",
       "      <td>1,589,942,641,764.29</td>\n",
       "      <td>1,645,875,899,596.27</td>\n",
       "      <td>1,666,934,123,163.16</td>\n",
       "      <td>1,678,708,855,070.86</td>\n",
       "      <td>1,616,148,858,033.77</td>\n",
       "    </tr>\n",
       "    <tr>\n",
       "      <th>Canada</th>\n",
       "      <td>6.0</td>\n",
       "      <td>17,899.0</td>\n",
       "      <td>17,620.0</td>\n",
       "      <td>215,003.0</td>\n",
       "      <td>40,930.0</td>\n",
       "      <td>12.01</td>\n",
       "      <td>149.0</td>\n",
       "      <td>10431000000</td>\n",
       "      <td>296</td>\n",
       "      <td>61.94543</td>\n",
       "      <td>1,564,468,853,329.45</td>\n",
       "      <td>1,596,739,898,466.32</td>\n",
       "      <td>1,612,713,061,250.24</td>\n",
       "      <td>1,565,144,676,082.31</td>\n",
       "      <td>1,613,406,134,731.12</td>\n",
       "      <td>1,664,086,754,804.89</td>\n",
       "      <td>1,693,132,927,878.08</td>\n",
       "      <td>1,730,687,770,724.13</td>\n",
       "      <td>1,773,485,821,199.77</td>\n",
       "      <td>1,792,608,764,608.81</td>\n",
       "    </tr>\n",
       "    <tr>\n",
       "      <th>Germany</th>\n",
       "      <td>7.0</td>\n",
       "      <td>17,027.0</td>\n",
       "      <td>16,831.0</td>\n",
       "      <td>140,566.0</td>\n",
       "      <td>27,426.0</td>\n",
       "      <td>8.26</td>\n",
       "      <td>126.0</td>\n",
       "      <td>13261000000</td>\n",
       "      <td>165</td>\n",
       "      <td>17.90153</td>\n",
       "      <td>3,332,890,754,966.89</td>\n",
       "      <td>3,441,560,834,437.09</td>\n",
       "      <td>3,478,809,377,483.44</td>\n",
       "      <td>3,283,339,933,774.83</td>\n",
       "      <td>3,417,298,013,245.03</td>\n",
       "      <td>3,542,371,125,827.81</td>\n",
       "      <td>3,556,723,774,834.44</td>\n",
       "      <td>3,567,317,390,728.48</td>\n",
       "      <td>3,624,386,278,145.7</td>\n",
       "      <td>3,685,555,907,284.77</td>\n",
       "    </tr>\n",
       "    <tr>\n",
       "      <th>India</th>\n",
       "      <td>8.0</td>\n",
       "      <td>15,005.0</td>\n",
       "      <td>14,841.0</td>\n",
       "      <td>128,763.0</td>\n",
       "      <td>37,209.0</td>\n",
       "      <td>8.58</td>\n",
       "      <td>115.0</td>\n",
       "      <td>33195000000</td>\n",
       "      <td>26</td>\n",
       "      <td>14.96908</td>\n",
       "      <td>1,265,894,322,131.09</td>\n",
       "      <td>1,374,865,195,244.5</td>\n",
       "      <td>1,428,360,609,657.8</td>\n",
       "      <td>1,549,482,541,544.7</td>\n",
       "      <td>1,708,458,876,829.92</td>\n",
       "      <td>1,821,872,415,623.62</td>\n",
       "      <td>1,924,235,460,945.25</td>\n",
       "      <td>2,051,981,849,791.69</td>\n",
       "      <td>2,200,616,575,310.97</td>\n",
       "      <td>2,367,206,118,959.06</td>\n",
       "    </tr>\n",
       "    <tr>\n",
       "      <th>France</th>\n",
       "      <td>9.0</td>\n",
       "      <td>13,153.0</td>\n",
       "      <td>12,973.0</td>\n",
       "      <td>130,632.0</td>\n",
       "      <td>28,601.0</td>\n",
       "      <td>9.93</td>\n",
       "      <td>114.0</td>\n",
       "      <td>10597000000</td>\n",
       "      <td>166</td>\n",
       "      <td>17.02028</td>\n",
       "      <td>2,607,839,735,099.34</td>\n",
       "      <td>2,669,423,841,059.6</td>\n",
       "      <td>2,674,637,086,092.71</td>\n",
       "      <td>2,595,966,887,417.22</td>\n",
       "      <td>2,646,994,701,986.75</td>\n",
       "      <td>2,702,031,788,079.47</td>\n",
       "      <td>2,706,968,211,920.53</td>\n",
       "      <td>2,722,566,887,417.22</td>\n",
       "      <td>2,729,631,788,079.47</td>\n",
       "      <td>2,761,185,430,463.58</td>\n",
       "    </tr>\n",
       "    <tr>\n",
       "      <th>South Korea</th>\n",
       "      <td>10.0</td>\n",
       "      <td>11,983.0</td>\n",
       "      <td>11,923.0</td>\n",
       "      <td>114,675.0</td>\n",
       "      <td>22,595.0</td>\n",
       "      <td>9.57</td>\n",
       "      <td>104.0</td>\n",
       "      <td>11007000000</td>\n",
       "      <td>221</td>\n",
       "      <td>2.279353</td>\n",
       "      <td>941,019,882,149.125</td>\n",
       "      <td>992,431,619,676.197</td>\n",
       "      <td>1,020,509,638,539.71</td>\n",
       "      <td>1,027,729,932,849.17</td>\n",
       "      <td>1,094,499,338,702.72</td>\n",
       "      <td>1,134,795,571,930.64</td>\n",
       "      <td>1,160,809,426,196.79</td>\n",
       "      <td>1,194,429,021,591.57</td>\n",
       "      <td>1,234,340,240,503.49</td>\n",
       "      <td>1,266,580,410,309.11</td>\n",
       "    </tr>\n",
       "    <tr>\n",
       "      <th>Italy</th>\n",
       "      <td>11.0</td>\n",
       "      <td>10,964.0</td>\n",
       "      <td>10,794.0</td>\n",
       "      <td>111,850.0</td>\n",
       "      <td>26,661.0</td>\n",
       "      <td>10.2</td>\n",
       "      <td>106.0</td>\n",
       "      <td>6530000000</td>\n",
       "      <td>109</td>\n",
       "      <td>33.66723</td>\n",
       "      <td>2,202,169,663,576.16</td>\n",
       "      <td>2,234,626,814,701.99</td>\n",
       "      <td>2,211,154,176,556.29</td>\n",
       "      <td>2,089,937,511,523.18</td>\n",
       "      <td>2,125,184,794,172.19</td>\n",
       "      <td>2,137,439,133,774.83</td>\n",
       "      <td>2,077,184,315,761.59</td>\n",
       "      <td>2,040,871,178,145.7</td>\n",
       "      <td>2,033,867,707,549.67</td>\n",
       "      <td>2,049,315,603,576.16</td>\n",
       "    </tr>\n",
       "    <tr>\n",
       "      <th>Spain</th>\n",
       "      <td>12.0</td>\n",
       "      <td>9,428.0</td>\n",
       "      <td>9,330.0</td>\n",
       "      <td>123,336.0</td>\n",
       "      <td>23,964.0</td>\n",
       "      <td>13.08</td>\n",
       "      <td>115.0</td>\n",
       "      <td>4923000000</td>\n",
       "      <td>106</td>\n",
       "      <td>37.96859</td>\n",
       "      <td>1,414,822,516,556.29</td>\n",
       "      <td>1,468,145,695,364.24</td>\n",
       "      <td>1,484,529,801,324.5</td>\n",
       "      <td>1,431,475,496,688.74</td>\n",
       "      <td>1,431,672,847,682.12</td>\n",
       "      <td>1,417,354,966,887.42</td>\n",
       "      <td>1,380,215,894,039.73</td>\n",
       "      <td>1,357,139,072,847.68</td>\n",
       "      <td>1,375,605,298,013.24</td>\n",
       "      <td>1,419,821,192,052.98</td>\n",
       "    </tr>\n",
       "    <tr>\n",
       "      <th>Iran</th>\n",
       "      <td>13.0</td>\n",
       "      <td>8,896.0</td>\n",
       "      <td>8,819.0</td>\n",
       "      <td>57,470.0</td>\n",
       "      <td>19,125.0</td>\n",
       "      <td>6.46</td>\n",
       "      <td>72.0</td>\n",
       "      <td>9172000000</td>\n",
       "      <td>119</td>\n",
       "      <td>5.707721</td>\n",
       "      <td>389,552,313,541.27</td>\n",
       "      <td>425,064,554,419.08704</td>\n",
       "      <td>428,990,857,822.095</td>\n",
       "      <td>438,920,754,763.986</td>\n",
       "      <td>467,790,215,915.476</td>\n",
       "      <td>485,330,901,134.448</td>\n",
       "      <td>453,256,899,727.83203</td>\n",
       "      <td>444,592,553,889.771</td>\n",
       "      <td>463,902,735,245.89</td>\n",
       "      <td>nan</td>\n",
       "    </tr>\n",
       "    <tr>\n",
       "      <th>Australia</th>\n",
       "      <td>14.0</td>\n",
       "      <td>8,831.0</td>\n",
       "      <td>8,725.0</td>\n",
       "      <td>90,765.0</td>\n",
       "      <td>15,606.0</td>\n",
       "      <td>10.28</td>\n",
       "      <td>107.0</td>\n",
       "      <td>5386000000</td>\n",
       "      <td>231</td>\n",
       "      <td>11.81081</td>\n",
       "      <td>1,021,939,264,106.67</td>\n",
       "      <td>1,060,340,245,233.55</td>\n",
       "      <td>1,099,643,871,866.03</td>\n",
       "      <td>1,119,653,852,349.08</td>\n",
       "      <td>1,142,250,506,474.06</td>\n",
       "      <td>1,169,431,057,881.91</td>\n",
       "      <td>1,211,913,217,353.49</td>\n",
       "      <td>1,241,484,494,446.53</td>\n",
       "      <td>1,272,519,759,757.29</td>\n",
       "      <td>1,301,251,030,445.66</td>\n",
       "    </tr>\n",
       "    <tr>\n",
       "      <th>Brazil</th>\n",
       "      <td>15.0</td>\n",
       "      <td>8,668.0</td>\n",
       "      <td>8,596.0</td>\n",
       "      <td>60,702.0</td>\n",
       "      <td>14,396.0</td>\n",
       "      <td>7.0</td>\n",
       "      <td>86.0</td>\n",
       "      <td>12149000000</td>\n",
       "      <td>59</td>\n",
       "      <td>69.64803</td>\n",
       "      <td>1,845,079,664,513.56</td>\n",
       "      <td>1,957,118,136,056.33</td>\n",
       "      <td>2,056,809,174,052.93</td>\n",
       "      <td>2,054,214,562,458.19</td>\n",
       "      <td>2,208,872,214,643.02</td>\n",
       "      <td>2,295,244,758,549.53</td>\n",
       "      <td>2,339,209,222,185.09</td>\n",
       "      <td>2,409,739,667,075.82</td>\n",
       "      <td>2,412,230,647,720.45</td>\n",
       "      <td>2,319,423,390,494.13</td>\n",
       "    </tr>\n",
       "  </tbody>\n",
       "</table>\n",
       "</div>"
      ],
      "text/plain": [
       "                                   Rank            Documents  \\\n",
       "Country                                                        \n",
       "China                               1.0            127,050.0   \n",
       "United States                       2.0             96,661.0   \n",
       "Japan                               3.0             30,504.0   \n",
       "United Kingdom                      4.0             20,944.0   \n",
       "Russian Federation                  5.0             18,534.0   \n",
       "Canada                              6.0             17,899.0   \n",
       "Germany                             7.0             17,027.0   \n",
       "India                               8.0             15,005.0   \n",
       "France                              9.0             13,153.0   \n",
       "South Korea                        10.0             11,983.0   \n",
       "Italy                              11.0             10,964.0   \n",
       "Spain                              12.0              9,428.0   \n",
       "Iran                               13.0              8,896.0   \n",
       "Australia                          14.0              8,831.0   \n",
       "Brazil                             15.0              8,668.0   \n",
       "\n",
       "                      Citable documents            Citations  \\\n",
       "Country                                                        \n",
       "China                         126,767.0            597,237.0   \n",
       "United States                  94,747.0            792,274.0   \n",
       "Japan                          30,287.0            223,024.0   \n",
       "United Kingdom                 20,357.0            206,091.0   \n",
       "Russian Federation             18,301.0             34,266.0   \n",
       "Canada                         17,620.0            215,003.0   \n",
       "Germany                        16,831.0            140,566.0   \n",
       "India                          14,841.0            128,763.0   \n",
       "France                         12,973.0            130,632.0   \n",
       "South Korea                    11,923.0            114,675.0   \n",
       "Italy                          10,794.0            111,850.0   \n",
       "Spain                           9,330.0            123,336.0   \n",
       "Iran                            8,819.0             57,470.0   \n",
       "Australia                       8,725.0             90,765.0   \n",
       "Brazil                          8,596.0             60,702.0   \n",
       "\n",
       "                         Self-citations  Citations per document  \\\n",
       "Country                                                           \n",
       "China                         411,683.0                     4.7   \n",
       "United States                 265,436.0                     8.2   \n",
       "Japan                          61,554.0                    7.31   \n",
       "United Kingdom                 37,874.0                    9.84   \n",
       "Russian Federation             12,422.0                    1.85   \n",
       "Canada                         40,930.0                   12.01   \n",
       "Germany                        27,426.0                    8.26   \n",
       "India                          37,209.0                    8.58   \n",
       "France                         28,601.0                    9.93   \n",
       "South Korea                    22,595.0                    9.57   \n",
       "Italy                          26,661.0                    10.2   \n",
       "Spain                          23,964.0                   13.08   \n",
       "Iran                           19,125.0                    6.46   \n",
       "Australia                      15,606.0                   10.28   \n",
       "Brazil                         14,396.0                     7.0   \n",
       "\n",
       "                                H index Energy Supply  \\\n",
       "Country                                                 \n",
       "China                             138.0  127191000000   \n",
       "United States                     230.0   90838000000   \n",
       "Japan                             134.0   18984000000   \n",
       "United Kingdom                    139.0    7920000000   \n",
       "Russian Federation                 57.0   30709000000   \n",
       "Canada                            149.0   10431000000   \n",
       "Germany                           126.0   13261000000   \n",
       "India                             115.0   33195000000   \n",
       "France                            114.0   10597000000   \n",
       "South Korea                       104.0   11007000000   \n",
       "Italy                             106.0    6530000000   \n",
       "Spain                             115.0    4923000000   \n",
       "Iran                               72.0    9172000000   \n",
       "Australia                         107.0    5386000000   \n",
       "Brazil                             86.0   12149000000   \n",
       "\n",
       "                   Energy Supply per Capita          % Renewable  \\\n",
       "Country                                                            \n",
       "China                                    93             19.75491   \n",
       "United States                           286             11.57098   \n",
       "Japan                                   149             10.23282   \n",
       "United Kingdom                          124             10.60047   \n",
       "Russian Federation                      214             17.28868   \n",
       "Canada                                  296             61.94543   \n",
       "Germany                                 165             17.90153   \n",
       "India                                    26             14.96908   \n",
       "France                                  166             17.02028   \n",
       "South Korea                             221             2.279353   \n",
       "Italy                                   109             33.66723   \n",
       "Spain                                   106             37.96859   \n",
       "Iran                                    119             5.707721   \n",
       "Australia                               231             11.81081   \n",
       "Brazil                                   59             69.64803   \n",
       "\n",
       "                                   2006                  2007  \\\n",
       "Country                                                         \n",
       "China              3,992,331,462,570.89  4,559,041,383,517.93   \n",
       "United States      14,792,303,791,800.0  15,055,395,304,800.0   \n",
       "Japan              5,496,541,517,363.31  5,617,035,943,770.73   \n",
       "United Kingdom     2,419,630,700,401.73   2,482,203,235,475.9   \n",
       "Russian Federation 1,385,792,607,182.58   1,504,071,117,741.3   \n",
       "Canada             1,564,468,853,329.45  1,596,739,898,466.32   \n",
       "Germany            3,332,890,754,966.89  3,441,560,834,437.09   \n",
       "India              1,265,894,322,131.09   1,374,865,195,244.5   \n",
       "France             2,607,839,735,099.34   2,669,423,841,059.6   \n",
       "South Korea         941,019,882,149.125   992,431,619,676.197   \n",
       "Italy              2,202,169,663,576.16  2,234,626,814,701.99   \n",
       "Spain              1,414,822,516,556.29  1,468,145,695,364.24   \n",
       "Iran                 389,552,313,541.27 425,064,554,419.08704   \n",
       "Australia          1,021,939,264,106.67  1,060,340,245,233.55   \n",
       "Brazil             1,845,079,664,513.56  1,957,118,136,056.33   \n",
       "\n",
       "                                   2008                 2009  \\\n",
       "Country                                                        \n",
       "China              4,997,775,145,605.96 5,459,247,267,275.14   \n",
       "United States      15,011,490,541,400.0 14,594,842,181,900.0   \n",
       "Japan              5,558,526,873,313.82 5,251,308,399,909.32   \n",
       "United Kingdom      2,470,614,405,284.3 2,367,047,611,711.99   \n",
       "Russian Federation 1,583,004,071,092.11 1,459,199,142,720.26   \n",
       "Canada             1,612,713,061,250.24 1,565,144,676,082.31   \n",
       "Germany            3,478,809,377,483.44 3,283,339,933,774.83   \n",
       "India               1,428,360,609,657.8  1,549,482,541,544.7   \n",
       "France             2,674,637,086,092.71 2,595,966,887,417.22   \n",
       "South Korea        1,020,509,638,539.71 1,027,729,932,849.17   \n",
       "Italy              2,211,154,176,556.29 2,089,937,511,523.18   \n",
       "Spain               1,484,529,801,324.5 1,431,475,496,688.74   \n",
       "Iran                428,990,857,822.095  438,920,754,763.986   \n",
       "Australia          1,099,643,871,866.03 1,119,653,852,349.08   \n",
       "Brazil             2,056,809,174,052.93 2,054,214,562,458.19   \n",
       "\n",
       "                                   2010                 2011  \\\n",
       "Country                                                        \n",
       "China              6,039,658,508,485.59 6,612,490,294,273.65   \n",
       "United States      14,964,372,000,000.0 15,204,019,634,600.0   \n",
       "Japan              5,498,717,815,809.77 5,473,738,114,222.05   \n",
       "United Kingdom      2,403,504,326,328.8 2,450,911,011,124.85   \n",
       "Russian Federation 1,524,917,468,442.01 1,589,942,641,764.29   \n",
       "Canada             1,613,406,134,731.12 1,664,086,754,804.89   \n",
       "Germany            3,417,298,013,245.03 3,542,371,125,827.81   \n",
       "India              1,708,458,876,829.92 1,821,872,415,623.62   \n",
       "France             2,646,994,701,986.75 2,702,031,788,079.47   \n",
       "South Korea        1,094,499,338,702.72 1,134,795,571,930.64   \n",
       "Italy              2,125,184,794,172.19 2,137,439,133,774.83   \n",
       "Spain              1,431,672,847,682.12 1,417,354,966,887.42   \n",
       "Iran                467,790,215,915.476  485,330,901,134.448   \n",
       "Australia          1,142,250,506,474.06 1,169,431,057,881.91   \n",
       "Brazil             2,208,872,214,643.02 2,295,244,758,549.53   \n",
       "\n",
       "                                    2012                 2013  \\\n",
       "Country                                                         \n",
       "China               7,124,977,970,399.61 7,672,447,738,017.42   \n",
       "United States       15,542,161,722,300.0 15,773,666,098,800.0   \n",
       "Japan               5,569,101,602,926.18 5,644,658,523,313.42   \n",
       "United Kingdom      2,479,808,627,472.19 2,533,370,110,012.36   \n",
       "Russian Federation  1,645,875,899,596.27 1,666,934,123,163.16   \n",
       "Canada              1,693,132,927,878.08 1,730,687,770,724.13   \n",
       "Germany             3,556,723,774,834.44 3,567,317,390,728.48   \n",
       "India               1,924,235,460,945.25 2,051,981,849,791.69   \n",
       "France              2,706,968,211,920.53 2,722,566,887,417.22   \n",
       "South Korea         1,160,809,426,196.79 1,194,429,021,591.57   \n",
       "Italy               2,077,184,315,761.59  2,040,871,178,145.7   \n",
       "Spain               1,380,215,894,039.73 1,357,139,072,847.68   \n",
       "Iran               453,256,899,727.83203  444,592,553,889.771   \n",
       "Australia           1,211,913,217,353.49 1,241,484,494,446.53   \n",
       "Brazil              2,339,209,222,185.09 2,409,739,667,075.82   \n",
       "\n",
       "                                   2014                 2015  \n",
       "Country                                                       \n",
       "China              8,230,120,617,793.52 8,797,998,940,421.28  \n",
       "United States      16,156,618,476,000.0 16,548,573,278,300.0  \n",
       "Japan              5,642,884,448,582.19 5,669,563,143,140.97  \n",
       "United Kingdom     2,605,643,189,894.93 2,666,333,396,477.13  \n",
       "Russian Federation 1,678,708,855,070.86 1,616,148,858,033.77  \n",
       "Canada             1,773,485,821,199.77 1,792,608,764,608.81  \n",
       "Germany             3,624,386,278,145.7 3,685,555,907,284.77  \n",
       "India              2,200,616,575,310.97 2,367,206,118,959.06  \n",
       "France             2,729,631,788,079.47 2,761,185,430,463.58  \n",
       "South Korea        1,234,340,240,503.49 1,266,580,410,309.11  \n",
       "Italy              2,033,867,707,549.67 2,049,315,603,576.16  \n",
       "Spain              1,375,605,298,013.24 1,419,821,192,052.98  \n",
       "Iran                 463,902,735,245.89                  nan  \n",
       "Australia          1,272,519,759,757.29 1,301,251,030,445.66  \n",
       "Brazil             2,412,230,647,720.45 2,319,423,390,494.13  "
      ]
     },
     "execution_count": 225,
     "metadata": {},
     "output_type": "execute_result"
    }
   ],
   "source": [
    "import pandas as pd\n",
    "import numpy as np\n",
    "\n",
    "def energy():\n",
    "    energy = (pd.read_excel('Energy Indicators.xls',skiprows = 17, skip_footer = 38, names = ['1', '12', 'Country', 'Energy Supply',\n",
    "                                                                                               'Energy Supply per Capita', '% Renewable'])\n",
    "                .set_index('Country')\n",
    "                .drop(['1','12'], axis =1)\n",
    "                #.dropna()\n",
    "                .replace('...','0')\n",
    "             )\n",
    "    energy = (energy.rename(index={\"Republic of Korea\": \"South Korea\",\"United States of America20\": \"United States\",\n",
    "                      \"United Kingdom of Great Britain and Northern Ireland19\": \"United Kingdom\",\n",
    "                      \"China, Hong Kong Special Administrative Region3\": \"Hong Kong\", 'China, Macao Special Administrative Region4':'Macao'}))\n",
    "    regex = r\"([a-zA-Z]+(?:\\s+[a-zA-Z]+)*).*\"\n",
    "    energy['Energy Supply'] = energy['Energy Supply'] * 1000000\n",
    "    #enegery = energy[:0]\n",
    "    #.astype(np.int64)\n",
    "    energy.index = energy.index.str.extract(regex)\n",
    "    return energy\n",
    "energy()\n",
    "def GDP():\n",
    "    GDP = (pd.read_csv('world_bank.csv',skiprows = 4 )\n",
    "             .rename(columns = {'Country Name':'Country'})\n",
    "             .set_index('Country')\n",
    "             .rename(index = {\"Korea, Rep.\": \"South Korea\", \"Iran, Islamic Rep.\": \"Iran\",\"Hong Kong SAR, China\": \"Hong Kong\"})\n",
    "             #.fillna(0)\n",
    "          )\n",
    "    GDP = GDP.iloc[0:,-10:]\n",
    "    return GDP\n",
    "GDP()\n",
    "def ScimEn():\n",
    "    ScimEn = pd.read_excel('scimagojr-3.xlsx').set_index('Country')\n",
    "    return ScimEn\n",
    "ScimEn()\n",
    "\n",
    "def merge1():\n",
    "    merge1 = pd.merge(ScimEn(),energy(),how='inner',left_index =True, right_index=True)\n",
    "    return merge1\n",
    "def merge2():\n",
    "    merge2 = df2 = pd.merge(merge1(), GDP(),how='inner',left_index =True, right_index=True)\n",
    "    return merge2\n",
    "def answer_one():    \n",
    "    columns_to_keep = ['Rank', 'Documents', 'Citable documents', 'Citations', 'Self-citations', 'Citations per document', 'H index', 'Energy Supply', 'Energy Supply per Capita', '% Renewable', '2006', '2007', '2008', '2009', '2010', '2011', '2012', '2013', '2014', '2015']\n",
    "    Top15 = merge2()[columns_to_keep].sort_values(by=['Rank'],axis=0, ascending=True)\n",
    "    Top15 = Top15.where(Top15['Rank']<16)\n",
    "    Top15 = Top15[0:15]\n",
    "    #Top15 = Top15.fillna(0)  \n",
    "    return Top15\n",
    "answer_one()\n",
    "#print(GDP().shape,',',ScimEn().shape,',',energy().shape)"
   ]
  },
  {
   "cell_type": "code",
   "execution_count": 179,
   "metadata": {
    "collapsed": false
   },
   "outputs": [
    {
     "data": {
      "text/html": [
       "<svg width=\"800\" height=\"300\">\n",
       "  <circle cx=\"150\" cy=\"180\" r=\"80\" fill-opacity=\"0.2\" stroke=\"black\" stroke-width=\"2\" fill=\"blue\" />\n",
       "  <circle cx=\"200\" cy=\"100\" r=\"80\" fill-opacity=\"0.2\" stroke=\"black\" stroke-width=\"2\" fill=\"red\" />\n",
       "  <circle cx=\"100\" cy=\"100\" r=\"80\" fill-opacity=\"0.2\" stroke=\"black\" stroke-width=\"2\" fill=\"green\" />\n",
       "  <line x1=\"150\" y1=\"125\" x2=\"300\" y2=\"150\" stroke=\"black\" stroke-width=\"2\" fill=\"black\" stroke-dasharray=\"5,3\"/>\n",
       "  <text  x=\"300\" y=\"165\" font-family=\"Verdana\" font-size=\"35\">Everything but this!</text>\n",
       "</svg>"
      ],
      "text/plain": [
       "<IPython.core.display.HTML object>"
      ]
     },
     "metadata": {},
     "output_type": "display_data"
    }
   ],
   "source": [
    "%%HTML\n",
    "<svg width=\"800\" height=\"300\">\n",
    "  <circle cx=\"150\" cy=\"180\" r=\"80\" fill-opacity=\"0.2\" stroke=\"black\" stroke-width=\"2\" fill=\"blue\" />\n",
    "  <circle cx=\"200\" cy=\"100\" r=\"80\" fill-opacity=\"0.2\" stroke=\"black\" stroke-width=\"2\" fill=\"red\" />\n",
    "  <circle cx=\"100\" cy=\"100\" r=\"80\" fill-opacity=\"0.2\" stroke=\"black\" stroke-width=\"2\" fill=\"green\" />\n",
    "  <line x1=\"150\" y1=\"125\" x2=\"300\" y2=\"150\" stroke=\"black\" stroke-width=\"2\" fill=\"black\" stroke-dasharray=\"5,3\"/>\n",
    "  <text  x=\"300\" y=\"165\" font-family=\"Verdana\" font-size=\"35\">Everything but this!</text>\n",
    "</svg>"
   ]
  },
  {
   "cell_type": "code",
   "execution_count": 323,
   "metadata": {
    "collapsed": false
   },
   "outputs": [
    {
     "name": "stderr",
     "output_type": "stream",
     "text": [
      "/Users/yiyingchen/anaconda/lib/python3.6/site-packages/ipykernel/__main__.py:19: FutureWarning: currently extract(expand=None) means expand=False (return Index/Series/DataFrame) but in a future version of pandas this will be changed to expand=True (return DataFrame)\n"
     ]
    },
    {
     "data": {
      "text/plain": [
       "156"
      ]
     },
     "execution_count": 323,
     "metadata": {},
     "output_type": "execute_result"
    }
   ],
   "source": [
    "def answer_two():\n",
    "    data = answer_one()\n",
    "    union1 = pd.merge(GDP(),energy(),how ='outer',left_index =True, right_index=True)\n",
    "    union2 = pd.merge(union1,ScimEn(),how ='outer',left_index =True, right_index=True)\n",
    "    merge_row = len(union2.axes[0])\n",
    "    left1 = pd.merge(GDP(),energy(),how ='inner',left_index =True, right_index=True)\n",
    "    left2 = pd.merge(left1,ScimEn(),how ='inner',left_index =True, right_index=True)\n",
    "    left_row = len(left2.axes[0])\n",
    "    ANSWER = merge_row-left_row\n",
    "    return ANSWER\n",
    "answer_two()"
   ]
  },
  {
   "cell_type": "markdown",
   "metadata": {},
   "source": [
    "<br>\n",
    "\n",
    "Answer the following questions in the context of only the top 15 countries by Scimagojr Rank (aka the DataFrame returned by `answer_one()`)"
   ]
  },
  {
   "cell_type": "markdown",
   "metadata": {},
   "source": [
    "### Question 3 (6.6%)\n",
    "What is the average GDP over the last 10 years for each country? (exclude missing values from this calculation.)\n",
    "\n",
    "*This function should return a Series named `avgGDP` with 15 countries and their average GDP sorted in descending order.*"
   ]
  },
  {
   "cell_type": "code",
   "execution_count": 230,
   "metadata": {
    "collapsed": false,
    "scrolled": true
   },
   "outputs": [
    {
     "name": "stderr",
     "output_type": "stream",
     "text": [
      "/Users/yiyingchen/anaconda/lib/python3.6/site-packages/ipykernel/__main__.py:19: FutureWarning: currently extract(expand=None) means expand=False (return Index/Series/DataFrame) but in a future version of pandas this will be changed to expand=True (return DataFrame)\n"
     ]
    },
    {
     "data": {
      "text/plain": [
       "Country\n",
       "Iran                  444,155,754,051.09503\n",
       "South Korea           1,106,714,508,244.852\n",
       "Australia             1,164,042,729,991.427\n",
       "Spain                 1,418,078,278,145.694\n",
       "Russian Federation    1,565,459,478,480.661\n",
       "Canada                1,660,647,466,307.512\n",
       "India                1,769,297,396,603.8599\n",
       "Italy                2,120,175,089,933.7761\n",
       "Brazil               2,189,794,143,774.9048\n",
       "United Kingdom       2,487,906,661,418.4175\n",
       "France                2,681,724,635,761.589\n",
       "Germany               3,493,025,339,072.848\n",
       "Japan                 5,542,207,638,235.176\n",
       "China                   6,348,608,932,836.1\n",
       "United States          15,364,344,302,990.0\n",
       "Name: avgGDP, dtype: float64"
      ]
     },
     "execution_count": 230,
     "metadata": {},
     "output_type": "execute_result"
    }
   ],
   "source": [
    "def answer_three():\n",
    "    Top15 = answer_one()\n",
    "    columns_to_keep = ['2006', '2007', '2008', '2009', '2010', '2011', '2012', '2013', '2014', '2015']\n",
    "    Data = Top15[columns_to_keep]\n",
    "    avgGDP = np.ma.mean(Data,axis=1)\n",
    "    df = pd.DataFrame(avgGDP).rename(columns = {0:'avgGDP'}).sort_values(by=['avgGDP'],axis=0, ascending=True, inplace=False)\n",
    "    ANSWER = df.iloc[:,0]\n",
    "    return ANSWER\n",
    "answer_three()"
   ]
  },
  {
   "cell_type": "markdown",
   "metadata": {},
   "source": [
    "### Question 4 (6.6%)\n",
    "By how much had the GDP changed over the 10 year span for the country with the 6th largest average GDP?\n",
    "\n",
    "*This function should return a single number.*"
   ]
  },
  {
   "cell_type": "code",
   "execution_count": 231,
   "metadata": {
    "collapsed": false,
    "scrolled": true
   },
   "outputs": [
    {
     "name": "stderr",
     "output_type": "stream",
     "text": [
      "/Users/yiyingchen/anaconda/lib/python3.6/site-packages/ipykernel/__main__.py:19: FutureWarning: currently extract(expand=None) means expand=False (return Index/Series/DataFrame) but in a future version of pandas this will be changed to expand=True (return DataFrame)\n"
     ]
    },
    {
     "data": {
      "text/plain": [
       "474343725980.56982"
      ]
     },
     "execution_count": 231,
     "metadata": {},
     "output_type": "execute_result"
    }
   ],
   "source": [
    "def answer_four():\n",
    "    Top15 = answer_one()\n",
    "    columns_to_keep = ['2006', '2007', '2008', '2009', '2010', '2011', '2012', '2013', '2014', '2015']\n",
    "    Data = Top15[columns_to_keep]\n",
    "    avgGDP = np.ma.mean(Data,axis=1)\n",
    "    df = pd.DataFrame(avgGDP).rename(columns = {0:'avgGDP'}).sort_values(by=['avgGDP'],axis=0, ascending=True, inplace=False)\n",
    "    Top15 = pd.merge(answer_one(),df,how='inner',left_index =True, right_index=True).sort_values(by=['avgGDP'],axis=0, ascending=False, inplace=False)\n",
    "    the6 = Top15.loc[Top15.index[6]]\n",
    "    ANSWER = the6.loc['2015'] - the6.loc['2006']\n",
    "    return ANSWER\n",
    "answer_four()"
   ]
  },
  {
   "cell_type": "markdown",
   "metadata": {},
   "source": [
    "### Question 5 (6.6%)\n",
    "What is the mean `Energy Supply per Capita`?\n",
    "\n",
    "*This function should return a single number.*"
   ]
  },
  {
   "cell_type": "code",
   "execution_count": 238,
   "metadata": {
    "collapsed": false
   },
   "outputs": [
    {
     "name": "stderr",
     "output_type": "stream",
     "text": [
      "/Users/yiyingchen/anaconda/lib/python3.6/site-packages/ipykernel/__main__.py:19: FutureWarning: currently extract(expand=None) means expand=False (return Index/Series/DataFrame) but in a future version of pandas this will be changed to expand=True (return DataFrame)\n"
     ]
    },
    {
     "data": {
      "text/plain": [
       "157.6"
      ]
     },
     "execution_count": 238,
     "metadata": {},
     "output_type": "execute_result"
    }
   ],
   "source": [
    "def answer_five():\n",
    "    Top15 = answer_one()\n",
    "    ANSWER = Top15['Energy Supply per Capita'].mean().item()\n",
    "    return ANSWER\n",
    "answer_five()"
   ]
  },
  {
   "cell_type": "markdown",
   "metadata": {},
   "source": [
    "### Question 6 (6.6%)\n",
    "What country has the maximum % Renewable and what is the percentage?\n",
    "\n",
    "*This function should return a tuple with the name of the country and the percentage.*"
   ]
  },
  {
   "cell_type": "code",
   "execution_count": 233,
   "metadata": {
    "collapsed": false
   },
   "outputs": [
    {
     "name": "stderr",
     "output_type": "stream",
     "text": [
      "/Users/yiyingchen/anaconda/lib/python3.6/site-packages/ipykernel/__main__.py:19: FutureWarning: currently extract(expand=None) means expand=False (return Index/Series/DataFrame) but in a future version of pandas this will be changed to expand=True (return DataFrame)\n"
     ]
    },
    {
     "data": {
      "text/plain": [
       "('Brazil', 69.648030000000006)"
      ]
     },
     "execution_count": 233,
     "metadata": {},
     "output_type": "execute_result"
    }
   ],
   "source": [
    "def answer_six():\n",
    "    Top15 = answer_one()\n",
    "    maxi= Top15['% Renewable'].max(axis=0)\n",
    "    ans = Top15.loc[Top15['% Renewable'] == maxi]\n",
    "    ANSWER = (ans.index.tolist()[0],maxi)\n",
    "    return ANSWER\n",
    "answer_six()"
   ]
  },
  {
   "cell_type": "markdown",
   "metadata": {},
   "source": [
    "### Question 7 (6.6%)\n",
    "Create a new column that is the ratio of Self-Citations to Total Citations. \n",
    "What is the maximum value for this new column, and what country has the highest ratio?\n",
    "\n",
    "*This function should return a tuple with the name of the country and the ratio.*"
   ]
  },
  {
   "cell_type": "code",
   "execution_count": 211,
   "metadata": {
    "collapsed": false
   },
   "outputs": [
    {
     "name": "stderr",
     "output_type": "stream",
     "text": [
      "/Users/yiyingchen/anaconda/lib/python3.6/site-packages/ipykernel/__main__.py:18: FutureWarning: currently extract(expand=None) means expand=False (return Index/Series/DataFrame) but in a future version of pandas this will be changed to expand=True (return DataFrame)\n"
     ]
    },
    {
     "data": {
      "text/plain": [
       "('China', 0.6893126179389422)"
      ]
     },
     "execution_count": 211,
     "metadata": {},
     "output_type": "execute_result"
    }
   ],
   "source": [
    "def answer_seven():\n",
    "    Top15 = answer_one()\n",
    "    ration = pd.DataFrame(Top15['Self-citations']/Top15['Citations']).rename(columns = {0:'Citation Ratio'})\n",
    "    merge = pd.merge(answer_one(), ration, how='inner',left_index =True, right_index=True)\n",
    "    higest= merge.nlargest(1,'Citation Ratio')\n",
    "    ANSWER = (higest.index.tolist()[0], higest['Citation Ratio'].tolist()[0])\n",
    "    return ANSWER\n",
    "answer_seven()"
   ]
  },
  {
   "cell_type": "markdown",
   "metadata": {},
   "source": [
    "### Question 8 (6.6%)\n",
    "\n",
    "Create a column that estimates the population using Energy Supply and Energy Supply per capita. \n",
    "What is the third most populous country according to this estimate?\n",
    "\n",
    "*This function should return a single string value.*"
   ]
  },
  {
   "cell_type": "code",
   "execution_count": 308,
   "metadata": {
    "collapsed": false
   },
   "outputs": [
    {
     "name": "stderr",
     "output_type": "stream",
     "text": [
      "/Users/yiyingchen/anaconda/lib/python3.6/site-packages/ipykernel/__main__.py:19: FutureWarning: currently extract(expand=None) means expand=False (return Index/Series/DataFrame) but in a future version of pandas this will be changed to expand=True (return DataFrame)\n"
     ]
    },
    {
     "data": {
      "text/plain": [
       "'United States'"
      ]
     },
     "execution_count": 308,
     "metadata": {},
     "output_type": "execute_result"
    }
   ],
   "source": [
    "def answer_eight():\n",
    "    Top15 = answer_one()\n",
    "    Top15['PopEst'] = Top15['Energy Supply'] / Top15['Energy Supply per Capita']\n",
    "    Top15 = Top15.sort_values(by='PopEst',axis=0, ascending=True)\n",
    "    ANSWER = Top15[-3:-2].index.tolist()[0]\n",
    "    return ANSWER\n",
    "answer_eight()"
   ]
  },
  {
   "cell_type": "markdown",
   "metadata": {},
   "source": [
    "### Question 9 (6.6%)\n",
    "Create a column that estimates the number of citable documents per person. \n",
    "What is the correlation between the number of citable documents per capita and the energy supply per capita? Use the `.corr()` method, (Pearson's correlation).\n",
    "\n",
    "*This function should return a single number.*\n",
    "\n",
    "*(Optional: Use the built-in function `plot9()` to visualize the relationship between Energy Supply per Capita vs. Citable docs per Capita)*"
   ]
  },
  {
   "cell_type": "code",
   "execution_count": 235,
   "metadata": {
    "collapsed": false
   },
   "outputs": [
    {
     "name": "stderr",
     "output_type": "stream",
     "text": [
      "/Users/yiyingchen/anaconda/lib/python3.6/site-packages/ipykernel/__main__.py:19: FutureWarning: currently extract(expand=None) means expand=False (return Index/Series/DataFrame) but in a future version of pandas this will be changed to expand=True (return DataFrame)\n"
     ]
    },
    {
     "data": {
      "text/plain": [
       "0.79400104354429468"
      ]
     },
     "execution_count": 235,
     "metadata": {},
     "output_type": "execute_result"
    }
   ],
   "source": [
    "def answer_nine():\n",
    "    Top15 = answer_one()\n",
    "    Top15['PopEst'] = Top15['Energy Supply'] / Top15['Energy Supply per Capita']\n",
    "    Top15['Citable docs per Capita'] = Top15['Citable documents']/Top15['PopEst']\n",
    "    Top15['Citable docs per Capita'] =np.float64(Top15['Citable docs per Capita'])\n",
    "    Top15['Energy Supply per Capita'] =np.float64(Top15['Energy Supply per Capita'])\n",
    "    ans = Top15['Energy Supply per Capita'].corr(Top15['Citable docs per Capita'])\n",
    "    return ans\n",
    "answer_nine()"
   ]
  },
  {
   "cell_type": "code",
   "execution_count": 188,
   "metadata": {
    "collapsed": false
   },
   "outputs": [],
   "source": [
    "def plot9():\n",
    "    import matplotlib as plt\n",
    "    %matplotlib inline\n",
    "    \n",
    "    Top15 = answer_one()\n",
    "    Top15['PopEst'] = Top15['Energy Supply'] / Top15['Energy Supply per Capita']\n",
    "    Top15['Citable docs per Capita'] = Top15['Citable documents'] / Top15['PopEst']\n",
    "    Top15.plot(x='Citable docs per Capita', y='Energy Supply per Capita', kind='scatter', xlim=[0, 0.0006])\n",
    "    \n"
   ]
  },
  {
   "cell_type": "code",
   "execution_count": 189,
   "metadata": {
    "collapsed": false
   },
   "outputs": [],
   "source": [
    "#plot9()"
   ]
  },
  {
   "cell_type": "markdown",
   "metadata": {},
   "source": [
    "### Question 10 (6.6%)\n",
    "Create a new column with a 1 if the country's % Renewable value is at or above the median for all countries in the top 15, and a 0 if the country's % Renewable value is below the median.\n",
    "\n",
    "*This function should return a series named `HighRenew` whose index is the country name sorted in ascending order of rank.*"
   ]
  },
  {
   "cell_type": "code",
   "execution_count": 215,
   "metadata": {
    "collapsed": false
   },
   "outputs": [
    {
     "name": "stderr",
     "output_type": "stream",
     "text": [
      "/Users/yiyingchen/anaconda/lib/python3.6/site-packages/ipykernel/__main__.py:18: FutureWarning: currently extract(expand=None) means expand=False (return Index/Series/DataFrame) but in a future version of pandas this will be changed to expand=True (return DataFrame)\n"
     ]
    },
    {
     "data": {
      "text/plain": [
       "Country\n",
       "China                 0\n",
       "United States         0\n",
       "Japan                 0\n",
       "United Kingdom        0\n",
       "Russian Federation    0\n",
       "Canada                1\n",
       "Germany               0\n",
       "India                 0\n",
       "France                0\n",
       "South Korea           0\n",
       "Italy                 1\n",
       "Spain                 1\n",
       "Iran                  0\n",
       "Australia             0\n",
       "Brazil                1\n",
       "Name: HighRenew, dtype: object"
      ]
     },
     "execution_count": 215,
     "metadata": {},
     "output_type": "execute_result"
    }
   ],
   "source": [
    "def answer_ten():\n",
    "    Top15 = answer_one().sort_values(by=['Rank'],axis=0, ascending=True)\n",
    "    median = Top15['% Renewable'].mean()\n",
    "    Top15['HighRenew'] = Top15['% Renewable'] > median\n",
    "    ANSWER = Top15['HighRenew'].replace([False,True],['0','1'])\n",
    "    #.astype('int64')\n",
    "    return ANSWER\n",
    "answer_ten()"
   ]
  },
  {
   "cell_type": "markdown",
   "metadata": {},
   "source": [
    "### Question 11 (6.6%)\n",
    "Use the following dictionary to group the Countries by Continent, then create a dateframe that displays the sample size (the number of countries in each continent bin), and the sum, mean, and std deviation for the estimated population of each country.\n",
    "\n",
    "```python\n",
    "ContinentDict  = {'China':'Asia', \n",
    "                  'United States':'North America', \n",
    "                  'Japan':'Asia', \n",
    "                  'United Kingdom':'Europe', \n",
    "                  'Russian Federation':'Europe', \n",
    "                  'Canada':'North America', \n",
    "                  'Germany':'Europe', \n",
    "                  'India':'Asia',\n",
    "                  'France':'Europe', \n",
    "                  'South Korea':'Asia', \n",
    "                  'Italy':'Europe', \n",
    "                  'Spain':'Europe', \n",
    "                  'Iran':'Asia',\n",
    "                  'Australia':'Australia', \n",
    "                  'Brazil':'South America'}\n",
    "```\n",
    "\n",
    "*This function should return a DataFrame with index named Continent `['Asia', 'Australia', 'Europe', 'North America', 'South America']` and columns `['size', 'sum', 'mean', 'std']`*"
   ]
  },
  {
   "cell_type": "code",
   "execution_count": 236,
   "metadata": {
    "collapsed": false,
    "scrolled": true
   },
   "outputs": [
    {
     "name": "stderr",
     "output_type": "stream",
     "text": [
      "/Users/yiyingchen/anaconda/lib/python3.6/site-packages/ipykernel/__main__.py:19: FutureWarning: currently extract(expand=None) means expand=False (return Index/Series/DataFrame) but in a future version of pandas this will be changed to expand=True (return DataFrame)\n"
     ]
    },
    {
     "data": {
      "text/html": [
       "<div>\n",
       "<table border=\"1\" class=\"dataframe\">\n",
       "  <thead>\n",
       "    <tr style=\"text-align: right;\">\n",
       "      <th></th>\n",
       "      <th>size</th>\n",
       "      <th>sum</th>\n",
       "      <th>mean</th>\n",
       "      <th>std</th>\n",
       "    </tr>\n",
       "    <tr>\n",
       "      <th>Continent</th>\n",
       "      <th></th>\n",
       "      <th></th>\n",
       "      <th></th>\n",
       "      <th></th>\n",
       "    </tr>\n",
       "  </thead>\n",
       "  <tbody>\n",
       "    <tr>\n",
       "      <th>Asia</th>\n",
       "      <td>5.0</td>\n",
       "      <td>2,898,666,386.6106005</td>\n",
       "      <td>579,733,277.3221201</td>\n",
       "      <td>679,097,888.3660954</td>\n",
       "    </tr>\n",
       "    <tr>\n",
       "      <th>Australia</th>\n",
       "      <td>1.0</td>\n",
       "      <td>23,316,017.316017315</td>\n",
       "      <td>23,316,017.316017315</td>\n",
       "      <td>nan</td>\n",
       "    </tr>\n",
       "    <tr>\n",
       "      <th>Europe</th>\n",
       "      <td>6.0</td>\n",
       "      <td>457,929,667.2163719</td>\n",
       "      <td>76,321,611.20272864</td>\n",
       "      <td>34,647,667.06562293</td>\n",
       "    </tr>\n",
       "    <tr>\n",
       "      <th>North America</th>\n",
       "      <td>2.0</td>\n",
       "      <td>352,855,249.4802495</td>\n",
       "      <td>176,427,624.74012476</td>\n",
       "      <td>199,669,644.8566684</td>\n",
       "    </tr>\n",
       "    <tr>\n",
       "      <th>South America</th>\n",
       "      <td>1.0</td>\n",
       "      <td>205,915,254.23728815</td>\n",
       "      <td>205,915,254.23728815</td>\n",
       "      <td>nan</td>\n",
       "    </tr>\n",
       "  </tbody>\n",
       "</table>\n",
       "</div>"
      ],
      "text/plain": [
       "                              size                   sum                 mean  \\\n",
       "Continent                                                                       \n",
       "Asia                           5.0 2,898,666,386.6106005  579,733,277.3221201   \n",
       "Australia                      1.0  23,316,017.316017315 23,316,017.316017315   \n",
       "Europe                         6.0   457,929,667.2163719  76,321,611.20272864   \n",
       "North America                  2.0   352,855,249.4802495 176,427,624.74012476   \n",
       "South America                  1.0  205,915,254.23728815 205,915,254.23728815   \n",
       "\n",
       "                               std  \n",
       "Continent                           \n",
       "Asia           679,097,888.3660954  \n",
       "Australia                      nan  \n",
       "Europe         34,647,667.06562293  \n",
       "North America  199,669,644.8566684  \n",
       "South America                  nan  "
      ]
     },
     "execution_count": 236,
     "metadata": {},
     "output_type": "execute_result"
    }
   ],
   "source": [
    "def answer_eleven():\n",
    "    ContinentDict  = {'China':'Asia', \n",
    "                      'United States':'North America', \n",
    "                      'Japan':'Asia', \n",
    "                      'United Kingdom':'Europe', \n",
    "                      'Russian Federation':'Europe', \n",
    "                      'Canada':'North America', \n",
    "                      'Germany':'Europe', \n",
    "                      'India':'Asia',\n",
    "                      'France':'Europe', \n",
    "                      'South Korea':'Asia', \n",
    "                      'Italy':'Europe', \n",
    "                      'Spain':'Europe', \n",
    "                      'Iran':'Asia',\n",
    "                      'Australia':'Australia', \n",
    "                      'Brazil':'South America'}\n",
    "    Top15 = answer_one()\n",
    "    Top15['PopEst'] = np.float64(Top15['Energy Supply'] / Top15['Energy Supply per Capita'])\n",
    "    Top15['Continent'] = [ContinentDict[country] for country in Top15.index]\n",
    "    group = Top15.set_index('Continent').groupby(level=0)['PopEst'].agg({'size': np.size, 'sum': np.sum, 'mean': np.mean,'std': np.std})\n",
    "    return group\n",
    "answer_eleven()"
   ]
  },
  {
   "cell_type": "markdown",
   "metadata": {},
   "source": [
    "### Question 12 (6.6%)\n",
    "Cut % Renewable into 5 bins. Group Top15 by the Continent, as well as these new % Renewable bins. How many countries are in each of these groups?\n",
    "\n",
    "*This function should return a __Series__ with a MultiIndex of `Continent`, then the bins for `% Renewable`. Do not include groups with no countries.*"
   ]
  },
  {
   "cell_type": "code",
   "execution_count": 219,
   "metadata": {
    "collapsed": false,
    "scrolled": true
   },
   "outputs": [
    {
     "name": "stderr",
     "output_type": "stream",
     "text": [
      "/Users/yiyingchen/anaconda/lib/python3.6/site-packages/ipykernel/__main__.py:18: FutureWarning: currently extract(expand=None) means expand=False (return Index/Series/DataFrame) but in a future version of pandas this will be changed to expand=True (return DataFrame)\n",
      "/Users/yiyingchen/anaconda/lib/python3.6/site-packages/ipykernel/__main__.py:21: SettingWithCopyWarning: \n",
      "A value is trying to be set on a copy of a slice from a DataFrame.\n",
      "Try using .loc[row_indexer,col_indexer] = value instead\n",
      "\n",
      "See the caveats in the documentation: http://pandas.pydata.org/pandas-docs/stable/indexing.html#indexing-view-versus-copy\n"
     ]
    },
    {
     "data": {
      "text/plain": [
       "Continent      bin             \n",
       "Asia           (2.212, 15.753]     4\n",
       "               (15.753, 29.227]    1\n",
       "Australia      (2.212, 15.753]     1\n",
       "Europe         (2.212, 15.753]     1\n",
       "               (15.753, 29.227]    3\n",
       "               (29.227, 42.701]    2\n",
       "North America  (2.212, 15.753]     1\n",
       "               (56.174, 69.648]    1\n",
       "South America  (56.174, 69.648]    1\n",
       "dtype: int64"
      ]
     },
     "execution_count": 219,
     "metadata": {},
     "output_type": "execute_result"
    }
   ],
   "source": [
    "def answer_twelve():\n",
    "    ContinentDict  = {'China':'Asia', \n",
    "                  'United States':'North America', \n",
    "                  'Japan':'Asia', \n",
    "                  'United Kingdom':'Europe', \n",
    "                  'Russian Federation':'Europe', \n",
    "                  'Canada':'North America', \n",
    "                  'Germany':'Europe', \n",
    "                  'India':'Asia',\n",
    "                  'France':'Europe', \n",
    "                  'South Korea':'Asia', \n",
    "                  'Italy':'Europe', \n",
    "                  'Spain':'Europe', \n",
    "                  'Iran':'Asia',\n",
    "                  'Australia':'Australia', \n",
    "                  'Brazil':'South America'}\n",
    "    Top15 = answer_one()\n",
    "    Top15['Continent'] = [ContinentDict[country] for country in Top15.index]\n",
    "    columns_to_keep = ['% Renewable','Continent']\n",
    "    data = Top15[columns_to_keep]\n",
    "    data['bin'] = pd.cut(data['% Renewable'],5)\n",
    "    ANSWER = data.groupby(['Continent','bin']).size()\n",
    "    return ANSWER\n",
    "answer_twelve()"
   ]
  },
  {
   "cell_type": "markdown",
   "metadata": {},
   "source": [
    "### Question 13 (6.6%)\n",
    "Convert the Population Estimate series to a string with thousands separator (using commas). Do not round the results.\n",
    "\n",
    "e.g. 317615384.61538464 -> 317,615,384.61538464\n",
    "\n",
    "*This function should return a Series `PopEst` whose index is the country name and whose values are the population estimate string.*"
   ]
  },
  {
   "cell_type": "code",
   "execution_count": 220,
   "metadata": {
    "collapsed": false,
    "scrolled": true
   },
   "outputs": [
    {
     "name": "stderr",
     "output_type": "stream",
     "text": [
      "/Users/yiyingchen/anaconda/lib/python3.6/site-packages/ipykernel/__main__.py:18: FutureWarning: currently extract(expand=None) means expand=False (return Index/Series/DataFrame) but in a future version of pandas this will be changed to expand=True (return DataFrame)\n"
     ]
    },
    {
     "data": {
      "text/plain": [
       "Country\n",
       "China                 1,367.6451612903227\n",
       "United States          317.61538461538464\n",
       "Japan                  127.40939597315436\n",
       "United Kingdom          63.87096774193548\n",
       "Russian Federation                  143.5\n",
       "Canada                  35.23986486486486\n",
       "Germany                 80.36969696969697\n",
       "India                 1,276.7307692307693\n",
       "France                  63.83734939759036\n",
       "South Korea             49.80542986425339\n",
       "Italy                  59.908256880733944\n",
       "Spain                  46.443396226415096\n",
       "Iran                    77.07563025210084\n",
       "Australia              23.316017316017316\n",
       "Brazil                 205.91525423728814\n",
       "Name: PopEst, dtype: object"
      ]
     },
     "execution_count": 220,
     "metadata": {},
     "output_type": "execute_result"
    }
   ],
   "source": [
    "def answer_thirteen():\n",
    "    Top15 = answer_one()\n",
    "    Top15['PopEst'] = (Top15['Energy Supply'] / Top15['Energy Supply per Capita'])\n",
    "    ans = Top15['PopEst']\n",
    "    pd.options.display.float_format = '{:20,}'.format\n",
    "    return ans\n",
    "answer_thirteen()"
   ]
  },
  {
   "cell_type": "markdown",
   "metadata": {},
   "source": [
    "### Optional\n",
    "\n",
    "Use the built in function `plot_optional()` to see an example visualization."
   ]
  },
  {
   "cell_type": "code",
   "execution_count": 194,
   "metadata": {
    "collapsed": false,
    "scrolled": true
   },
   "outputs": [],
   "source": [
    "def plot_optional():\n",
    "    import matplotlib as plt\n",
    "    %matplotlib inline\n",
    "    Top15 = answer_one()\n",
    "    ax = Top15.plot(x='Rank', y='% Renewable', kind='scatter', \n",
    "                    c=['#e41a1c','#377eb8','#e41a1c','#4daf4a','#4daf4a','#377eb8','#4daf4a','#e41a1c',\n",
    "                       '#4daf4a','#e41a1c','#4daf4a','#4daf4a','#e41a1c','#dede00','#ff7f00'], \n",
    "                    xticks=range(1,16), s=6*Top15['2014']/10**10, alpha=.75, figsize=[16,6]);\n",
    "\n",
    "    for i, txt in enumerate(Top15.index):\n",
    "        ax.annotate(txt, [Top15['Rank'][i], Top15['% Renewable'][i]], ha='center')"
   ]
  },
  {
   "cell_type": "code",
   "execution_count": 195,
   "metadata": {
    "collapsed": false
   },
   "outputs": [],
   "source": [
    "#plot_optional()"
   ]
  }
 ],
 "metadata": {
  "anaconda-cloud": {},
  "coursera": {
   "course_slug": "python-data-analysis",
   "graded_item_id": "zAr06",
   "launcher_item_id": "KSSjT",
   "part_id": "SL3fU"
  },
  "kernelspec": {
   "display_name": "Python 3",
   "language": "python",
   "name": "python3"
  },
  "language_info": {
   "codemirror_mode": {
    "name": "ipython",
    "version": 3
   },
   "file_extension": ".py",
   "mimetype": "text/x-python",
   "name": "python",
   "nbconvert_exporter": "python",
   "pygments_lexer": "ipython3",
   "version": "3.6.0"
  }
 },
 "nbformat": 4,
 "nbformat_minor": 0
}
